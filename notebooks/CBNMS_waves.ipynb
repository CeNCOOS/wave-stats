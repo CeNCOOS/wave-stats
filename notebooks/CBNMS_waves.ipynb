{
 "cells": [
  {
   "cell_type": "code",
   "execution_count": 1,
   "metadata": {},
   "outputs": [],
   "source": [
    "import numpy as np\n",
    "import pandas as pd\n",
    "import xarray as xr\n",
    "import matplotlib.pyplot as plt\n",
    "from matplotlib import cm\n",
    "from datetime import datetime, timedelta\n",
    "import re\n",
    "import matplotlib.dates as mdates\n",
    "import joypy\n",
    "import seaborn as sns\n",
    "import cartopy.crs as ccrs\n",
    "import cartopy.feature as cfeature"
   ]
  },
  {
   "cell_type": "code",
   "execution_count": 2,
   "metadata": {},
   "outputs": [
    {
     "data": {
      "text/html": [
       "<div>\n",
       "<style scoped>\n",
       "    .dataframe tbody tr th:only-of-type {\n",
       "        vertical-align: middle;\n",
       "    }\n",
       "\n",
       "    .dataframe tbody tr th {\n",
       "        vertical-align: top;\n",
       "    }\n",
       "\n",
       "    .dataframe thead th {\n",
       "        text-align: right;\n",
       "    }\n",
       "</style>\n",
       "<table border=\"1\" class=\"dataframe\">\n",
       "  <thead>\n",
       "    <tr style=\"text-align: right;\">\n",
       "      <th></th>\n",
       "      <th>dateTime</th>\n",
       "      <th>hs</th>\n",
       "    </tr>\n",
       "    <tr>\n",
       "      <th>dateTime</th>\n",
       "      <th></th>\n",
       "      <th></th>\n",
       "    </tr>\n",
       "  </thead>\n",
       "  <tbody>\n",
       "    <tr>\n",
       "      <th>1996-12-06 01:36:10+00:00</th>\n",
       "      <td>1996-12-06T01:36:10Z</td>\n",
       "      <td>3.89</td>\n",
       "    </tr>\n",
       "    <tr>\n",
       "      <th>1996-12-06 02:06:05+00:00</th>\n",
       "      <td>1996-12-06T02:06:05Z</td>\n",
       "      <td>3.82</td>\n",
       "    </tr>\n",
       "    <tr>\n",
       "      <th>1996-12-06 02:36:05+00:00</th>\n",
       "      <td>1996-12-06T02:36:05Z</td>\n",
       "      <td>4.13</td>\n",
       "    </tr>\n",
       "    <tr>\n",
       "      <th>1996-12-06 03:06:11+00:00</th>\n",
       "      <td>1996-12-06T03:06:11Z</td>\n",
       "      <td>4.08</td>\n",
       "    </tr>\n",
       "    <tr>\n",
       "      <th>1996-12-06 03:36:11+00:00</th>\n",
       "      <td>1996-12-06T03:36:11Z</td>\n",
       "      <td>3.94</td>\n",
       "    </tr>\n",
       "  </tbody>\n",
       "</table>\n",
       "</div>"
      ],
      "text/plain": [
       "                                       dateTime    hs\n",
       "dateTime                                             \n",
       "1996-12-06 01:36:10+00:00  1996-12-06T01:36:10Z  3.89\n",
       "1996-12-06 02:06:05+00:00  1996-12-06T02:06:05Z  3.82\n",
       "1996-12-06 02:36:05+00:00  1996-12-06T02:36:05Z  4.13\n",
       "1996-12-06 03:06:11+00:00  1996-12-06T03:06:11Z  4.08\n",
       "1996-12-06 03:36:11+00:00  1996-12-06T03:36:11Z  3.94"
      ]
     },
     "execution_count": 2,
     "metadata": {},
     "output_type": "execute_result"
    }
   ],
   "source": [
    "url = \"http://erddap.cencoos.org/erddap/tabledap/edu_ucsd_cdip_029.csvp?time%2Csea_surface_wave_significant_height&time%3E=1996-12-06T01%3A36%3A10Z\"\n",
    "df = pd.read_csv(url,names=['dateTime','hs'],skiprows=[0])\n",
    "df = df.dropna()\n",
    "df.index = pd.to_datetime(df['dateTime'])\n",
    "df.head()"
   ]
  },
  {
   "cell_type": "code",
   "execution_count": 3,
   "metadata": {},
   "outputs": [],
   "source": [
    "def get_buoy_data(buoy_id):\n",
    "    ''' Generate a url request string based on the CDIP thredds '''\n",
    "    base_str = \"https://thredds.cdip.ucsd.edu/thredds/dodsC/cdip/realtime/\"\n",
    "    request_url = base_str + buoy_id+ 'p1_rt.nc'\n",
    "    try:\n",
    "        return xr.open_dataset(request_url)\n",
    "    except:\n",
    "        return None\n",
    "\n",
    "def plot_buoy(ds,param='waveHs',ax=None, max_hs=False):\n",
    "    ''' Plot the last month of Significant wave height given a dataset '''\n",
    "    if ax is None:\n",
    "        ax = plt.axes()\n",
    "    last_month = ds.sel(waveTime=slice(datetime.now()-timedelta(days=10),datetime.now()))\n",
    "    sig_wave = last_month['waveHs'].values\n",
    "    time_utc = last_month['waveTime'].to_pandas().tz_localize('UTC')\n",
    "    time_pst = time_utc.tz_convert('US/Pacific')\n",
    "    ax.plot(time_pst,sig_wave/0.3048,lw=3)\n",
    "    if max_hs:\n",
    "        max_hs = sig_wave.max()/0.3048\n",
    "\n",
    "    last_month = ds.sel(waveTime=slice(datetime.now()-timedelta(days=1),datetime.now()))\n",
    "    sig_wave = last_month['waveHs'].values\n",
    "    time_utc = last_month['waveTime'].to_pandas().tz_localize('UTC')\n",
    "    time_pst = time_utc.tz_convert('US/Pacific')\n",
    "    ax.plot(time_pst,sig_wave/0.3048,lw=3)\n",
    "    if max_hs:\n",
    "        return ax, last_month, max_hs\n",
    "\n",
    "    else:\n",
    "        return ax, last_month\n",
    "\n",
    "def plot_buoy_period(ds,param='waveTp',ax=None):\n",
    "    ''' Plot the last month of Significant wave height given a dataset '''\n",
    "    if ax is None:\n",
    "        ax = plt.axes()\n",
    "    last_month = ds.sel(waveTime=slice(datetime.now()-timedelta(days=7),datetime.now()))\n",
    "    sig_wave = last_month[param].values\n",
    "    time_utc = last_month['waveTime'].to_pandas().tz_localize('UTC')\n",
    "    time_pst = time_utc.tz_convert('US/Pacific')\n",
    "    ax.plot(time_pst,sig_wave,lw=3)\n",
    "    last_month = ds.sel(waveTime=slice(datetime.now()-timedelta(days=1),datetime.now()))\n",
    "    sig_wave = last_month[param].values\n",
    "    time_utc = last_month['waveTime'].to_pandas().tz_localize('UTC')\n",
    "    time_pst = time_utc.tz_convert('US/Pacific')\n",
    "    ax.plot(time_pst,sig_wave,lw=3)\n",
    "    return ax, last_month\n",
    "\n",
    "def format_axis(ax,right=False):\n",
    "    ax.spines['top'].set_visible(False)\n",
    "    ax.spines['bottom'].set_visible(False)\n",
    "    ax.spines['left'].set_visible(False)\n",
    "    ax.xaxis.set_tick_params(width=0)\n",
    "    ax.yaxis.set_tick_params(width=0)\n",
    "    ax.tick_params(axis='both', labelsize=16, colors=\"#2F5596\")\n",
    "    if right:\n",
    "        ax.spines['right'].set_visible(False)\n",
    "        ax.yaxis.set_tick_params(width=3,length=7,colors=\"#2F5596\")\n",
    "        ax.set_yticks([5,10,15])\n",
    "    else:\n",
    "        ax.spines['right'].set_visible(False)\n",
    "        ax.set_yticks([])\n",
    "    return ax"
   ]
  },
  {
   "cell_type": "markdown",
   "metadata": {},
   "source": [
    "## `joypy` Mountain Plots ##\n",
    "\n",
    "[See example](https://github.com/sbebo/joypy/blob/master/Joyplot.ipynb) for more information.\n",
    "\n",
    "Create a data frame with each variable"
   ]
  },
  {
   "cell_type": "code",
   "execution_count": 16,
   "metadata": {},
   "outputs": [],
   "source": [
    "# df.drop('dateTime',axis=1)\n",
    "df['doy'] = df.index.dayofyear\n",
    "daily = df.resample('1D').median()\n",
    "climatology = daily['hs'].groupby([daily.doy]).mean()\n",
    "\n",
    "\n"
   ]
  },
  {
   "cell_type": "code",
   "execution_count": 17,
   "metadata": {},
   "outputs": [
    {
     "data": {
      "text/plain": [
       "[<matplotlib.lines.Line2D at 0x7f20000b28e0>]"
      ]
     },
     "execution_count": 17,
     "metadata": {},
     "output_type": "execute_result"
    },
    {
     "data": {
      "image/png": "[encoded data removed]",
      "text/plain": [
       "<Figure size 432x288 with 1 Axes>"
      ]
     },
     "metadata": {
      "needs_background": "light"
     },
     "output_type": "display_data"
    }
   ],
   "source": [
    "fig, ax = plt.subplots()\n",
    "ax.plot(climatology)"
   ]
  },
  {
   "cell_type": "code",
   "execution_count": 36,
   "metadata": {
    "scrolled": false
   },
   "outputs": [
    {
     "name": "stderr",
     "output_type": "stream",
     "text": [
      "/home/pdaniel/anaconda3/lib/python3.8/site-packages/joypy/joyplot.py:521: MatplotlibDeprecationWarning: Adding an axes using the same arguments as a previous axes currently reuses the earlier instance.  In a future version, a new instance will always be created and returned.  Meanwhile, this warning can be suppressed, and the future behavior ensured, by passing a unique label to each axes instance.\n",
      "  last_axis = fig.add_subplot(1, 1, 1)\n"
     ]
    },
    {
     "data": {
      "text/plain": [
       "(1.0, 4.0)"
      ]
     },
     "execution_count": 36,
     "metadata": {},
     "output_type": "execute_result"
    },
    {
     "data": {
      "image/png": "[encoded data removed]",
      "text/plain": [
       "<Figure size 432x288 with 1 Axes>"
      ]
     },
     "metadata": {},
     "output_type": "display_data"
    }
   ],
   "source": [
    "# sns.set_context(\"talk\")\n",
    "sns.set_theme()\n",
    "\n",
    "x_range = np.arange(0,5)\n",
    "fig, ax = joypy.joyplot(pd.DataFrame(climatology), x_range=x_range, colormap=[cm.Blues_r])\n",
    "# fig.set_size_inches(14,12)\n",
    "ax[-1].set_xlabel('Sig. Wave Height [m]')\n",
    "ax[-1].set_xticks(range(1,3,1))\n",
    "ax[-1].tick_params(direction='out', length=0)\n",
    "ax[-1].tick_params(axis=\"x\", pad=-25)\n",
    "ax[-1].set_xlim(1,4)\n",
    "\n",
    "# plt.title('Distribution of Wave Height, Past 30 Days\\n {} to {}'.format(df.index.min(),df.index.max()),y=.8)\n",
    "# plt.savefig('hs_distro_feet.png',dpi=300,bbox_inches='tight', pad_inches=0.25, transparent=True)\n"
   ]
  },
  {
   "cell_type": "code",
   "execution_count": 137,
   "metadata": {},
   "outputs": [
    {
     "data": {
      "text/html": [
       "<div>\n",
       "<style scoped>\n",
       "    .dataframe tbody tr th:only-of-type {\n",
       "        vertical-align: middle;\n",
       "    }\n",
       "\n",
       "    .dataframe tbody tr th {\n",
       "        vertical-align: top;\n",
       "    }\n",
       "\n",
       "    .dataframe thead th {\n",
       "        text-align: right;\n",
       "    }\n",
       "</style>\n",
       "<table border=\"1\" class=\"dataframe\">\n",
       "  <thead>\n",
       "    <tr style=\"text-align: right;\">\n",
       "      <th></th>\n",
       "      <th>station_names</th>\n",
       "      <th>latitude</th>\n",
       "      <th>longitude</th>\n",
       "    </tr>\n",
       "  </thead>\n",
       "  <tbody>\n",
       "    <tr>\n",
       "      <th>7</th>\n",
       "      <td>Diablo Canyon</td>\n",
       "      <td>35.20369338989258</td>\n",
       "      <td>-120.85916137695312</td>\n",
       "    </tr>\n",
       "  </tbody>\n",
       "</table>\n",
       "</div>"
      ],
      "text/plain": [
       "   station_names           latitude            longitude\n",
       "7  Diablo Canyon  35.20369338989258  -120.85916137695312"
      ]
     },
     "execution_count": 137,
     "metadata": {},
     "output_type": "execute_result"
    }
   ],
   "source": [
    "coords = pd.DataFrame({'station_names':station_name,'latitude':lats,'longitude':lons})\n",
    "coords.query(\"station_names == @key\")"
   ]
  },
  {
   "cell_type": "code",
   "execution_count": 96,
   "metadata": {},
   "outputs": [],
   "source": [
    "import cartopy.crs as ccrs\n",
    "import cartopy.feature as cfeature"
   ]
  },
  {
   "cell_type": "code",
   "execution_count": 180,
   "metadata": {},
   "outputs": [
    {
     "data": {
      "image/png": "[encoded data removed]",
      "text/plain": [
       "<Figure size 432x288 with 1 Axes>"
      ]
     },
     "metadata": {
      "needs_background": "light"
     },
     "output_type": "display_data"
    }
   ],
   "source": [
    "fig, ax = plt.subplots(1, subplot_kw={'projection': ccrs.PlateCarree()})\n",
    "# sanctuary_outline[(sanctuary_outline['REGION'] == \"Pacific Coast\") & (sanctuary_outline['EEZ'])].plot(ax=ax)\n",
    "ax.coastlines('10m')\n",
    "# ax.add_feature(cfeature.NaturalEarthFeature('physical', 'land', '10m', edgecolor='face', facecolor='#f49e42'))\n",
    "ax.add_feature(cfeature.NaturalEarthFeature('physical', 'land', '10m', edgecolor='face', facecolor='None',lw=6))\n",
    "ax.set_xlim(-126,-119)\n",
    "# ax.set_ylim(33.5,)\n",
    "for i, (key, value) in enumerate(buoy_lookup.items()):\n",
    "    station = coords.query(\"station_names == @key\")\n",
    "    cmap = matplotlib.cm.get_cmap('Dark2')\n",
    "    ax.scatter(station['longitude'],station['latitude'],zorder=10,s=50,color=cmap(i))\n",
    "#     ax.text(station['longitude']+.5,station['latitude']-.25,value,horizontalalignment='left')\n",
    "    \n",
    "fig.patch.set_visible(False)\n",
    "ax.axis('off')\n",
    "plt.savefig('map_region_feet.png',dpi=300,bbox_inches='tight', pad_inches=0.25)\n"
   ]
  },
  {
   "cell_type": "code",
   "execution_count": 155,
   "metadata": {},
   "outputs": [],
   "source": [
    "import matplotlib.colors as mcolors\n",
    "import matplotlib\n"
   ]
  },
  {
   "cell_type": "code",
   "execution_count": 166,
   "metadata": {},
   "outputs": [
    {
     "data": {
      "text/plain": [
       "1.0"
      ]
     },
     "execution_count": 166,
     "metadata": {},
     "output_type": "execute_result"
    }
   ],
   "source": [
    "(7+1)/8"
   ]
  },
  {
   "cell_type": "code",
   "execution_count": null,
   "metadata": {},
   "outputs": [],
   "source": []
  }
 ],
 "metadata": {
  "kernelspec": {
   "display_name": "Python 3",
   "language": "python",
   "name": "python3"
  },
  "language_info": {
   "codemirror_mode": {
    "name": "ipython",
    "version": 3
   },
   "file_extension": ".py",
   "mimetype": "text/x-python",
   "name": "python",
   "nbconvert_exporter": "python",
   "pygments_lexer": "ipython3",
   "version": "3.8.5"
  }
 },
 "nbformat": 4,
 "nbformat_minor": 4
}
